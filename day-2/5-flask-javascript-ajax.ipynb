{
 "cells": [
  {
   "cell_type": "markdown",
   "metadata": {
    "slideshow": {
     "slide_type": "slide"
    }
   },
   "source": [
    "## Flask JavaScript Ajax Examples\n",
    "----\n",
    "* Adding in the Other JavasScript Examples to Build out the Flask Examples JS library\n",
    "* starting off with `setup.py`:\n",
    "\n",
    "```python\n",
    "import io\n",
    "\n",
    "from setuptools import find_packages\n",
    "from setuptools import setup\n",
    "\n",
    "with io.open(\"README.rst\", \"rt\", encoding=\"utf8\") as f:\n",
    "    readme = f.read()\n",
    "\n",
    "setup(\n",
    "    name=\"js_example\",\n",
    "    version=\"1.0.0\",\n",
    "    url=\"http://flask.pocoo.org/docs/patterns/jquery/\",\n",
    "    license=\"BSD\",\n",
    "    maintainer=\"Pallets team\",\n",
    "    maintainer_email=\"contact@palletsprojects.com\",\n",
    "    description=\"Demonstrates making Ajax requests to Flask.\",\n",
    "    long_description=readme,\n",
    "    packages=find_packages(),\n",
    "    include_package_data=True,\n",
    "    zip_safe=False,\n",
    "    install_requires=[\"flask\"],\n",
    "    extras_require={\"test\": [\"pytest\", \"coverage\", \"blinker\"]},\n",
    ")\n",
    "```"
   ]
  },
  {
   "cell_type": "markdown",
   "metadata": {
    "slideshow": {
     "slide_type": "subslide"
    }
   },
   "source": [
    "### Next create a `templates` folder and add `__init__.py`\n",
    "----\n",
    "* `mkdir templates` to hold the templates\n",
    "* add a `__init__.py` to initialize the application\n",
    "\n",
    "```python\n",
    "from flask import Flask\n",
    "\n",
    "app = Flask(__name__)\n",
    "\n",
    "from js_example import views\n",
    "```\n",
    " "
   ]
  },
  {
   "cell_type": "markdown",
   "metadata": {
    "slideshow": {
     "slide_type": "subslide"
    }
   },
   "source": [
    "* add `views.py`\n",
    "\n",
    "```python\n",
    "\n",
    "Learn more or give us feedback\n",
    "from flask import jsonify\n",
    "from flask import render_template\n",
    "from flask import request\n",
    "\n",
    "from js_example import app\n",
    "\n",
    "\n",
    "@app.route(\"/\", defaults={\"js\": \"plain\"})\n",
    "@app.route(\"/<any(plain, jquery, fetch):js>\")\n",
    "def index(js):\n",
    "    return render_template(\"{0}.html\".format(js), js=js)\n",
    "\n",
    "\n",
    "@app.route(\"/add\", methods=[\"POST\"])\n",
    "def add():\n",
    "    a = request.form.get(\"a\", 0, type=float)\n",
    "    b = request.form.get(\"b\", 0, type=float)\n",
    "    return jsonify(result=a + b\n",
    "\n",
    "```"
   ]
  },
  {
   "cell_type": "markdown",
   "metadata": {
    "slideshow": {
     "slide_type": "subslide"
    }
   },
   "source": [
    "### `base.html`\n",
    "\n",
    "```html\n",
    "<!doctype html>\n",
    "<title>JavaScript Example</title>\n",
    "<link rel=\"stylesheet\" href=\"https://unpkg.com/sakura.css@1.0.0/css/normalize.css\">\n",
    "<link rel=\"stylesheet\" href=\"https://unpkg.com/sakura.css@1.0.0/css/sakura-earthly.css\">\n",
    "<style>\n",
    "  ul { margin: 0; padding: 0; display: flex; list-style-type: none; }\n",
    "  li > * { padding: 1em; }\n",
    "  li.active > a { color: #5e5e5e; border-bottom: 2px solid #4a4a4a; }\n",
    "  form { display: flex; }\n",
    "  label > input { width: 3em; }\n",
    "  form > * { padding-right: 1em; }\n",
    "  #result { font-weight: bold; }\n",
    "</style>\n",
    "<ul>\n",
    "  <li><span>Type:</span>\n",
    "  <li class=\"{% if js == 'plain' %}active{% endif %}\">\n",
    "    <a href=\"{{ url_for('index', js='plain') }}\">Plain</a>\n",
    "  <li class=\"{% if js == 'fetch' %}active{% endif %}\">\n",
    "    <a href=\"{{ url_for('index', js='fetch') }}\">Fetch</a>\n",
    "  <li class=\"{% if js == 'jquery' %}active{% endif %}\">\n",
    "    <a href=\"{{ url_for('index', js='jquery') }}\">jQuery</a>\n",
    "</ul>\n",
    "<hr>\n",
    "<p>{% block intro %}{% endblock %}</p>\n",
    "<hr>\n",
    "<form id=\"calc\">\n",
    "  <label>a <input name=\"a\"></label>\n",
    "  <span>+</span>\n",
    "  <label>b <input name=\"b\"></label>\n",
    "  <input type=\"submit\" value=\"Calculate\">\n",
    "</form>\n",
    "<span>= <span id=\"result\"></span></span>\n",
    "{% block script %}{% endblock %}\n",
    "\n",
    "```"
   ]
  },
  {
   "cell_type": "markdown",
   "metadata": {
    "slideshow": {
     "slide_type": "subslide"
    }
   },
   "source": [
    "### `fetch.html`\n",
    "----\n",
    "```html\n",
    "{% extends 'base.html' %}\n",
    "\n",
    "{% block intro %}\n",
    "  <a href=\"https://developer.mozilla.org/en-US/docs/Web/API/WindowOrWorkerGlobalScope/fetch\"><code>fetch</code></a>\n",
    "  is the <em>new</em> plain JavaScript way to make requests. It's\n",
    "  supported in all modern browsers except IE, which requires a\n",
    "  <a href=\"https://github.com/github/fetch\">polyfill</a>.\n",
    "{% endblock %}\n",
    "\n",
    "{% block script %}\n",
    "  <script src=\"https://unpkg.com/promise-polyfill@7.1.2/dist/polyfill.min.js\"></script>\n",
    "  <script src=\"https://unpkg.com/whatwg-fetch@2.0.4/fetch.js\"></script>\n",
    "  <script>\n",
    "    function addSubmit(ev) {\n",
    "      ev.preventDefault();\n",
    "      fetch({{ url_for('add')|tojson }}, {\n",
    "        method: 'POST',\n",
    "        body: new FormData(this)\n",
    "      })\n",
    "        .then(parseJSON)\n",
    "        .then(addShow);\n",
    "    }\n",
    "    function parseJSON(response) {\n",
    "      return response.json();\n",
    "    }\n",
    "    function addShow(data) {\n",
    "      var span = document.getElementById('result');\n",
    "      span.innerText = data.result;\n",
    "    }\n",
    "    var form = document.getElementById('calc');\n",
    "    form.addEventListener('submit', addSubmit);\n",
    "  </script>\n",
    "{% endblock %}\n",
    "```"
   ]
  },
  {
   "cell_type": "markdown",
   "metadata": {
    "slideshow": {
     "slide_type": "subslide"
    }
   },
   "source": [
    "### `jquery.html`\n",
    "-----\n",
    "```html\n",
    "{% extends 'base.html' %}\n",
    "\n",
    "{% block intro %}\n",
    "  <a href=\"https://jquery.com/\">jQuery</a> is a popular library that\n",
    "  adds cross browser APIs for common tasks. However, it requires loading\n",
    "  an extra library.\n",
    "{% endblock %}\n",
    "\n",
    "{% block script %}\n",
    "  <script src=\"https://code.jquery.com/jquery-3.3.1.min.js\"></script>\n",
    "  <script>\n",
    "    function addSubmit(ev) {\n",
    "      ev.preventDefault();\n",
    "      $.ajax({\n",
    "        method: 'POST',\n",
    "        url: {{ url_for('add')|tojson }},\n",
    "        data: $(this).serialize()\n",
    "      }).done(addShow);\n",
    "    }\n",
    "    function addShow(data) {\n",
    "      $('#result').text(data.result);\n",
    "    }\n",
    "    $('#calc').on('submit', addSubmit);\n",
    "  </script>\n",
    "{% endblock %}\n",
    "```\n"
   ]
  },
  {
   "cell_type": "markdown",
   "metadata": {
    "slideshow": {
     "slide_type": "subslide"
    }
   },
   "source": [
    "### `plain.html`\n",
    "----\n",
    "\n",
    "```html\n",
    "{% extends 'base.html' %}\n",
    "\n",
    "{% block intro %}\n",
    "  <a href=\"https://developer.mozilla.org/en-US/docs/Web/API/XMLHttpRequest\"><code>XMLHttpRequest</code></a>\n",
    "  is the plain JavaScript way to make requests. It's natively supported\n",
    "  by all browsers.\n",
    "{% endblock %}\n",
    "\n",
    "{% block script %}\n",
    "  <script>\n",
    "    function addSubmit(ev) {\n",
    "      ev.preventDefault();\n",
    "      var request = new XMLHttpRequest();\n",
    "      request.addEventListener('load', addShow);\n",
    "      request.open('POST', {{ url_for('add')|tojson }});\n",
    "      request.send(new FormData(this));\n",
    "    }\n",
    "    function addShow() {\n",
    "      var data = JSON.parse(this.responseText);\n",
    "      var span = document.getElementById('result');\n",
    "      span.innerText = data.result;\n",
    "    }\n",
    "    var form = document.getElementById('calc');\n",
    "    form.addEventListener('submit', addSubmit);\n",
    "  </script>\n",
    "{% endblock %}\n",
    "```"
   ]
  }
 ],
 "metadata": {
  "celltoolbar": "Slideshow",
  "kernelspec": {
   "display_name": "Python 3",
   "language": "python",
   "name": "python3"
  },
  "language_info": {
   "codemirror_mode": {
    "name": "ipython",
    "version": 3
   },
   "file_extension": ".py",
   "mimetype": "text/x-python",
   "name": "python",
   "nbconvert_exporter": "python",
   "pygments_lexer": "ipython3",
   "version": "3.7.4"
  }
 },
 "nbformat": 4,
 "nbformat_minor": 2
}
